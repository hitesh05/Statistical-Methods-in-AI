{
 "cells": [
  {
   "cell_type": "markdown",
   "id": "500e9f2c-75d3-4865-aaa4-f45e1642d29a",
   "metadata": {},
   "source": [
    "# SMAI Assignment - 2\n",
    "\n",
    "## Question - `4` : Gaussian Naïve Bayes\n",
    "\n",
    "| | |\n",
    "|- | -|\n",
    "| Course | Statistical Methods in AI |\n",
    "| Release Date | `16.02.2023` |\n",
    "| Due Date | `24.02.2023` |"
   ]
  },
  {
   "cell_type": "markdown",
   "id": "086e75e8-62ac-4f03-8ff3-936f60dbb0be",
   "metadata": {},
   "source": [
    "This question will have you working and experimenting with the Gaussian Naïve Bayes classifier. Initially, you will calculate the priors and the parameters for the Gaussians. Then, you will use the likelihoods to classify the test data. Please note that use of `sklearn` implementations is only for the final question in the Experiments section.\n",
    "\n",
    "The dataset is simple and interesting, the [Wireless Indoor Localization Data Set](https://archive.ics.uci.edu/ml/datasets/Wireless+Indoor+Localization). An office has seven Wi-Fi routers and its signal strengths received from these routers categorize the location of the receiver (in one of four rooms). There are 7 attributes and a class label column that can take 4 values. The data is present in `wifiLocalization.txt`. It contains 2000 samples."
   ]
  },
  {
   "cell_type": "markdown",
   "id": "5034071d-eda2-401d-95f2-1957acb0d85c",
   "metadata": {},
   "source": [
    "### Imports"
   ]
  },
  {
   "cell_type": "code",
   "execution_count": 1,
   "id": "123c3de5-95b1-47c3-a3e6-0efc4b5c9cc9",
   "metadata": {},
   "outputs": [],
   "source": [
    "import numpy as np\n",
    "import matplotlib.pyplot as plt\n",
    "import pandas as pd\n",
    "\n",
    "# additional imports if necessary\n",
    "from sklearn.model_selection import train_test_split\n",
    "from scipy.stats import norm"
   ]
  },
  {
   "cell_type": "markdown",
   "id": "4fb53a58-bb13-472c-be7e-af487a8128a6",
   "metadata": {},
   "source": [
    "### Estimate Gaussian parameters\n",
    "\n",
    "Write a function to estimate the parameters of the Gaussian distribution."
   ]
  },
  {
   "cell_type": "code",
   "execution_count": 2,
   "id": "77ba7db2-d539-4a5a-80d5-aaf3afb51996",
   "metadata": {},
   "outputs": [],
   "source": [
    "# your code here\n",
    "def estimate_gaussian_paras(X, y):\n",
    "    shape = X.shape\n",
    "    mean = np.zeros((len(np.unique(y)), shape[1]))\n",
    "    var = mean.copy()\n",
    "    \n",
    "    for ind, cl in enumerate(np.unique(y)):\n",
    "        mat = X[y==cl]\n",
    "        mean[ind, :] = np.mean(mat, axis=0)\n",
    "        var[ind, :] = np.var(mat, axis=0)\n",
    "        \n",
    "    return mean, var"
   ]
  },
  {
   "cell_type": "markdown",
   "id": "ef3c230b-1a48-40e2-987d-5c423c091ca4",
   "metadata": {},
   "source": [
    "### Calculate priors\n",
    "\n",
    "Write a function to calculate the priors for each class."
   ]
  },
  {
   "cell_type": "code",
   "execution_count": 3,
   "id": "3a8178d8-4cfe-410c-a1a5-7e89b406f5c3",
   "metadata": {},
   "outputs": [],
   "source": [
    "# your code here\n",
    "def est_priors(X,y):\n",
    "#     p = np.zeros(len(np.unique(y)))\n",
    "    p = list()\n",
    "    \n",
    "    for ind, cl in enumerate(np.unique(y)):\n",
    "        mat = X[y==cl]\n",
    "        mat = mat.shape[0]\n",
    "        mat = mat / X.shape[0]\n",
    "        p.append(mat)\n",
    "    p = np.array(p)\n",
    "    return p"
   ]
  },
  {
   "cell_type": "markdown",
   "id": "d70aa354-8c95-45b5-a94e-fbd74db1d58e",
   "metadata": {},
   "source": [
    "### Likelihood + Classification\n",
    "\n",
    "Given a test sample, write a function to get the likelihoods for each class in the sample. Use the Gaussian parameters and priors calculated above. Then compute the likelihood that the sample belongs to each class and return the class with the highest likelihood.\n",
    "\n",
    "What is a common problem with the likelihoods? How can you fix it? Redo the classification with the fixed likelihoods. (You can either write another function or modify the existing one after mentioning the reason for the change)"
   ]
  },
  {
   "cell_type": "code",
   "execution_count": 4,
   "id": "3ae21c1c-1cb3-4379-88cc-fb032ce3b2d1",
   "metadata": {},
   "outputs": [],
   "source": [
    "# your code here\n",
    "def est_likelihoods(X, classes, mean, var, priors):\n",
    "    shape1 = X.shape\n",
    "    shape2 = classes.shape\n",
    "    \n",
    "    p = np.zeros((shape1[0], shape2[0]))\n",
    "    for ind, cl in enumerate(classes):\n",
    "        x = np.sum(np.log(1 / np.sqrt(2 * np.pi * var[i, :])) - (X - mean[i, :]) ** 2 / (2 * var[i, :]), axis=1) + np.log(prior[i])\n",
    "        prior_val = np.log(priors[ind])\n",
    "        a = np.log(1/np.sqrt(2*np.pi*var[ind, :]))\n",
    "        b = np.square((X - mean[ind, :])) / (2 * var[ind, :])\n",
    "        val = np.sum(a-b, axis=1)\n",
    "        val += prior_val\n",
    "        p[:, ind] = val\n",
    "    y_pred = classes[np.argmax(p, axis=1)]\n",
    "    return y_pred"
   ]
  },
  {
   "cell_type": "code",
   "execution_count": 5,
   "id": "d6f6dc9f",
   "metadata": {},
   "outputs": [],
   "source": [
    "def better_likelihoods(X, classes, mean, var, priors):\n",
    "    shape1 = X.shape\n",
    "    shape2 = classes.shape\n",
    "    \n",
    "    p = np.zeros((shape1[0], shape2[0]))\n",
    "    for ind, cl in enumerate(classes):\n",
    "#         a = norm.pdf(X, mean[ind, :])\n",
    "        a = np.sqrt(var[ind, :] + 1e-12)\n",
    "        b = norm.pdf(X, mean[ind, :], a)\n",
    "        val = np.sum(np.log(b), axis=1)\n",
    "        p[:, ind] = val\n",
    "    y_pred = classes[np.argmax(p, axis=1)]\n",
    "    return y_pred"
   ]
  },
  {
   "cell_type": "markdown",
   "id": "2ae1dd54-f718-424c-81ef-ba3a25dd09ef",
   "metadata": {},
   "source": [
    "### Load Data\n",
    "\n",
    "The data has been loaded onto a Pandas DataFrame. Try to get an initial feel for the data by using functions like `describe()`, `info()`, or maybe try to plot the data to check for any patterns.\n",
    "\n",
    "Note: To obtain the data from the UCI website, `wget` can be used followed by shuffling the samples using `shuf` and adding a header for easier reading via `pandas`. It is not necessary to view the data in a DataFrame and can be directly loaded onto NumPy as convenient."
   ]
  },
  {
   "cell_type": "code",
   "execution_count": 6,
   "id": "e64cdf6e-dc06-45f1-b770-8b8e61f267eb",
   "metadata": {},
   "outputs": [],
   "source": [
    "data = pd.read_csv('wifiLocalization.txt', sep='\\t')"
   ]
  },
  {
   "cell_type": "code",
   "execution_count": 7,
   "id": "f3a0a3dd-cb25-426d-bfed-d0c075aea95d",
   "metadata": {},
   "outputs": [
    {
     "data": {
      "text/html": [
       "<div>\n",
       "<style scoped>\n",
       "    .dataframe tbody tr th:only-of-type {\n",
       "        vertical-align: middle;\n",
       "    }\n",
       "\n",
       "    .dataframe tbody tr th {\n",
       "        vertical-align: top;\n",
       "    }\n",
       "\n",
       "    .dataframe thead th {\n",
       "        text-align: right;\n",
       "    }\n",
       "</style>\n",
       "<table border=\"1\" class=\"dataframe\">\n",
       "  <thead>\n",
       "    <tr style=\"text-align: right;\">\n",
       "      <th></th>\n",
       "      <th>ws1</th>\n",
       "      <th>ws2</th>\n",
       "      <th>ws3</th>\n",
       "      <th>ws4</th>\n",
       "      <th>ws5</th>\n",
       "      <th>ws6</th>\n",
       "      <th>ws7</th>\n",
       "      <th>r</th>\n",
       "    </tr>\n",
       "  </thead>\n",
       "  <tbody>\n",
       "    <tr>\n",
       "      <th>count</th>\n",
       "      <td>2000.000000</td>\n",
       "      <td>2000.000000</td>\n",
       "      <td>2000.000000</td>\n",
       "      <td>2000.000000</td>\n",
       "      <td>2000.000000</td>\n",
       "      <td>2000.000000</td>\n",
       "      <td>2000.000000</td>\n",
       "      <td>2000.000000</td>\n",
       "    </tr>\n",
       "    <tr>\n",
       "      <th>mean</th>\n",
       "      <td>-52.330500</td>\n",
       "      <td>-55.623500</td>\n",
       "      <td>-54.964000</td>\n",
       "      <td>-53.566500</td>\n",
       "      <td>-62.640500</td>\n",
       "      <td>-80.985000</td>\n",
       "      <td>-81.726500</td>\n",
       "      <td>2.500000</td>\n",
       "    </tr>\n",
       "    <tr>\n",
       "      <th>std</th>\n",
       "      <td>11.321677</td>\n",
       "      <td>3.417688</td>\n",
       "      <td>5.316186</td>\n",
       "      <td>11.471982</td>\n",
       "      <td>9.105093</td>\n",
       "      <td>6.516672</td>\n",
       "      <td>6.519812</td>\n",
       "      <td>1.118314</td>\n",
       "    </tr>\n",
       "    <tr>\n",
       "      <th>min</th>\n",
       "      <td>-74.000000</td>\n",
       "      <td>-74.000000</td>\n",
       "      <td>-73.000000</td>\n",
       "      <td>-77.000000</td>\n",
       "      <td>-89.000000</td>\n",
       "      <td>-97.000000</td>\n",
       "      <td>-98.000000</td>\n",
       "      <td>1.000000</td>\n",
       "    </tr>\n",
       "    <tr>\n",
       "      <th>25%</th>\n",
       "      <td>-61.000000</td>\n",
       "      <td>-58.000000</td>\n",
       "      <td>-58.000000</td>\n",
       "      <td>-63.000000</td>\n",
       "      <td>-69.000000</td>\n",
       "      <td>-86.000000</td>\n",
       "      <td>-87.000000</td>\n",
       "      <td>1.750000</td>\n",
       "    </tr>\n",
       "    <tr>\n",
       "      <th>50%</th>\n",
       "      <td>-55.000000</td>\n",
       "      <td>-56.000000</td>\n",
       "      <td>-55.000000</td>\n",
       "      <td>-56.000000</td>\n",
       "      <td>-64.000000</td>\n",
       "      <td>-82.000000</td>\n",
       "      <td>-83.000000</td>\n",
       "      <td>2.500000</td>\n",
       "    </tr>\n",
       "    <tr>\n",
       "      <th>75%</th>\n",
       "      <td>-46.000000</td>\n",
       "      <td>-53.000000</td>\n",
       "      <td>-51.000000</td>\n",
       "      <td>-46.000000</td>\n",
       "      <td>-56.000000</td>\n",
       "      <td>-77.000000</td>\n",
       "      <td>-78.000000</td>\n",
       "      <td>3.250000</td>\n",
       "    </tr>\n",
       "    <tr>\n",
       "      <th>max</th>\n",
       "      <td>-10.000000</td>\n",
       "      <td>-45.000000</td>\n",
       "      <td>-40.000000</td>\n",
       "      <td>-11.000000</td>\n",
       "      <td>-36.000000</td>\n",
       "      <td>-61.000000</td>\n",
       "      <td>-63.000000</td>\n",
       "      <td>4.000000</td>\n",
       "    </tr>\n",
       "  </tbody>\n",
       "</table>\n",
       "</div>"
      ],
      "text/plain": [
       "               ws1          ws2          ws3          ws4          ws5  \\\n",
       "count  2000.000000  2000.000000  2000.000000  2000.000000  2000.000000   \n",
       "mean    -52.330500   -55.623500   -54.964000   -53.566500   -62.640500   \n",
       "std      11.321677     3.417688     5.316186    11.471982     9.105093   \n",
       "min     -74.000000   -74.000000   -73.000000   -77.000000   -89.000000   \n",
       "25%     -61.000000   -58.000000   -58.000000   -63.000000   -69.000000   \n",
       "50%     -55.000000   -56.000000   -55.000000   -56.000000   -64.000000   \n",
       "75%     -46.000000   -53.000000   -51.000000   -46.000000   -56.000000   \n",
       "max     -10.000000   -45.000000   -40.000000   -11.000000   -36.000000   \n",
       "\n",
       "               ws6          ws7            r  \n",
       "count  2000.000000  2000.000000  2000.000000  \n",
       "mean    -80.985000   -81.726500     2.500000  \n",
       "std       6.516672     6.519812     1.118314  \n",
       "min     -97.000000   -98.000000     1.000000  \n",
       "25%     -86.000000   -87.000000     1.750000  \n",
       "50%     -82.000000   -83.000000     2.500000  \n",
       "75%     -77.000000   -78.000000     3.250000  \n",
       "max     -61.000000   -63.000000     4.000000  "
      ]
     },
     "execution_count": 7,
     "metadata": {},
     "output_type": "execute_result"
    }
   ],
   "source": [
    "# your code here\n",
    "data.describe()"
   ]
  },
  {
   "cell_type": "code",
   "execution_count": 8,
   "id": "0e1b9024",
   "metadata": {},
   "outputs": [],
   "source": [
    "# data.head()"
   ]
  },
  {
   "cell_type": "markdown",
   "id": "c708f659-b930-4219-b8d4-46fffc843fb0",
   "metadata": {},
   "source": [
    "### Splitting the Data\n",
    "\n",
    "It is a good practice to split the data into training and test sets. This is to ensure that the model is not overfitting to the training data. The test set is used to evaluate the performance of the model on unseen data. The test set is not used to train the model in any way. The test set is only used to evaluate the performance of the model. You may use the `train_test_split` function from `sklearn.model_selection` to split the data into training and test sets.\n",
    "\n",
    "It is a good idea to move your data to NumPy arrays now as it will make computing easier."
   ]
  },
  {
   "cell_type": "code",
   "execution_count": 21,
   "id": "527e95e0-cf05-467a-9144-36664968277a",
   "metadata": {},
   "outputs": [
    {
     "name": "stdout",
     "output_type": "stream",
     "text": [
      "(1400, 7)\n",
      "(600,)\n"
     ]
    }
   ],
   "source": [
    "# your code here\n",
    "X = data.iloc[:, :-1]\n",
    "y = data.iloc[:, -1]\n",
    "\n",
    "X_train, X_test, y_train, y_test = train_test_split(X, y, test_size=0.3, random_state=42)\n",
    "print(X_train.shape)\n",
    "print(y_test.shape)"
   ]
  },
  {
   "cell_type": "markdown",
   "id": "c84e4e40-8ef7-4958-a6c3-2bd606c716fc",
   "metadata": {},
   "source": [
    "### Experiments\n",
    "\n",
    "1. Estimate your model on the training data.\n",
    "2. Plot the Gaussian probability density functions for each class after estimation.\n",
    "3. Classify the test data using your model.\n",
    "4. Pick a few samples from the test set that were misclassified and plot them along with the Gaussian probability density functions for each class. What do you observe?\n",
    "5. Find if there are any features that are redundant. If so, remove them and repeat the experiments. How does the performance change?\n",
    "6. Conversely, are there certain features that overpower the likelihood scores independently? Test this hypothesis empirically by only using hat/those feature(s) and repeating the experiments. How does the performance change?\n",
    "7. Compare your results with the `scikit-learn` implementation. You can use the `GaussianNB` class from `sklearn.naive_bayes`. You can use the `score` function to get the accuracy of the model on the test set.\n",
    "8. (Optional) Try other Naïve Bayes classifiers from [`sklearn.naive_bayes`](https://scikit-learn.org/stable/modules/classes.html#module-sklearn.naive_bayes) and compare the results."
   ]
  },
  {
   "cell_type": "code",
   "execution_count": 29,
   "id": "438639ed",
   "metadata": {},
   "outputs": [],
   "source": [
    "X_train = X_train.to_numpy()\n",
    "X_test = X_test.to_numpy()\n",
    "y_train = y_train.to_numpy()\n",
    "y_test = y_test.to_numpy()"
   ]
  },
  {
   "cell_type": "markdown",
   "id": "ca525fcf",
   "metadata": {},
   "source": [
    "### Experiment 1"
   ]
  },
  {
   "cell_type": "code",
   "execution_count": 30,
   "id": "98c17baa-7cba-4a85-867b-96778eb9dcb9",
   "metadata": {},
   "outputs": [],
   "source": [
    "# your code here\n",
    "class GaussNB():\n",
    "    def __init__(self, alpha=1.0):\n",
    "        self.alpha = alpha\n",
    "        \n",
    "    def fit(self, X, y):\n",
    "        self.mean, self.var = estimate_gaussian_paras(X, y)\n",
    "        self.prior = est_priors(X, y)\n",
    "        self.classes = y\n",
    "        self.classes = np.unique(self.classes)\n",
    "        \n",
    "    def predict(self, X):\n",
    "        return better_likelihoods(X, self.classes, self.mean, self.var, self.prior)"
   ]
  },
  {
   "cell_type": "code",
   "execution_count": 44,
   "id": "7c0a9faa",
   "metadata": {},
   "outputs": [
    {
     "name": "stdout",
     "output_type": "stream",
     "text": [
      "Training accuracy:  0.9821428571428571\n",
      "Testing accuracy:  0.9833333333333333\n"
     ]
    }
   ],
   "source": [
    "def gaussian_NB(x_tr, x_te, y_tr, y_te):\n",
    "    gnb = GaussNB()\n",
    "    gnb.fit(x_tr, y_tr)\n",
    "    y_pred = gnb.predict(x_tr)\n",
    "    total_cor = np.sum(y_pred == y_tr)\n",
    "    accuracy = total_cor / y_pred.shape[0]\n",
    "    print(\"Training accuracy: \", accuracy)\n",
    "\n",
    "    y_pred = gnb.predict(x_te)\n",
    "    total_cor = np.sum(y_pred == y_te)\n",
    "    accuracy = total_cor / y_pred.shape[0]\n",
    "    print(\"Testing accuracy: \", accuracy)\n",
    "    \n",
    "gaussian_NB(X_train, X_test, y_train, y_test)"
   ]
  },
  {
   "cell_type": "markdown",
   "id": "d8382f7e",
   "metadata": {},
   "source": [
    "### Experiment 5\n",
    "\n",
    "To check for redundant features, we will try and find those features which have high correlation with each other, and hence having both of them is not necessary for the performance of our algorithm."
   ]
  },
  {
   "cell_type": "code",
   "execution_count": 45,
   "id": "73cbcc18",
   "metadata": {},
   "outputs": [
    {
     "data": {
      "text/html": [
       "<div>\n",
       "<style scoped>\n",
       "    .dataframe tbody tr th:only-of-type {\n",
       "        vertical-align: middle;\n",
       "    }\n",
       "\n",
       "    .dataframe tbody tr th {\n",
       "        vertical-align: top;\n",
       "    }\n",
       "\n",
       "    .dataframe thead th {\n",
       "        text-align: right;\n",
       "    }\n",
       "</style>\n",
       "<table border=\"1\" class=\"dataframe\">\n",
       "  <thead>\n",
       "    <tr style=\"text-align: right;\">\n",
       "      <th></th>\n",
       "      <th>ws1</th>\n",
       "      <th>ws2</th>\n",
       "      <th>ws3</th>\n",
       "      <th>ws4</th>\n",
       "      <th>ws5</th>\n",
       "      <th>ws6</th>\n",
       "      <th>ws7</th>\n",
       "      <th>r</th>\n",
       "    </tr>\n",
       "  </thead>\n",
       "  <tbody>\n",
       "    <tr>\n",
       "      <th>0</th>\n",
       "      <td>-47</td>\n",
       "      <td>-53</td>\n",
       "      <td>-54</td>\n",
       "      <td>-49</td>\n",
       "      <td>-63</td>\n",
       "      <td>-88</td>\n",
       "      <td>-85</td>\n",
       "      <td>3</td>\n",
       "    </tr>\n",
       "    <tr>\n",
       "      <th>1</th>\n",
       "      <td>-50</td>\n",
       "      <td>-57</td>\n",
       "      <td>-60</td>\n",
       "      <td>-43</td>\n",
       "      <td>-66</td>\n",
       "      <td>-77</td>\n",
       "      <td>-82</td>\n",
       "      <td>3</td>\n",
       "    </tr>\n",
       "    <tr>\n",
       "      <th>2</th>\n",
       "      <td>-44</td>\n",
       "      <td>-50</td>\n",
       "      <td>-57</td>\n",
       "      <td>-45</td>\n",
       "      <td>-61</td>\n",
       "      <td>-72</td>\n",
       "      <td>-67</td>\n",
       "      <td>2</td>\n",
       "    </tr>\n",
       "    <tr>\n",
       "      <th>3</th>\n",
       "      <td>-48</td>\n",
       "      <td>-59</td>\n",
       "      <td>-53</td>\n",
       "      <td>-45</td>\n",
       "      <td>-74</td>\n",
       "      <td>-81</td>\n",
       "      <td>-81</td>\n",
       "      <td>3</td>\n",
       "    </tr>\n",
       "    <tr>\n",
       "      <th>4</th>\n",
       "      <td>-60</td>\n",
       "      <td>-54</td>\n",
       "      <td>-59</td>\n",
       "      <td>-65</td>\n",
       "      <td>-66</td>\n",
       "      <td>-83</td>\n",
       "      <td>-84</td>\n",
       "      <td>1</td>\n",
       "    </tr>\n",
       "  </tbody>\n",
       "</table>\n",
       "</div>"
      ],
      "text/plain": [
       "   ws1  ws2  ws3  ws4  ws5  ws6  ws7  r\n",
       "0  -47  -53  -54  -49  -63  -88  -85  3\n",
       "1  -50  -57  -60  -43  -66  -77  -82  3\n",
       "2  -44  -50  -57  -45  -61  -72  -67  2\n",
       "3  -48  -59  -53  -45  -74  -81  -81  3\n",
       "4  -60  -54  -59  -65  -66  -83  -84  1"
      ]
     },
     "execution_count": 45,
     "metadata": {},
     "output_type": "execute_result"
    }
   ],
   "source": [
    "data.head()"
   ]
  },
  {
   "cell_type": "code",
   "execution_count": 46,
   "id": "c83e3c7d",
   "metadata": {},
   "outputs": [
    {
     "data": {
      "text/html": [
       "<div>\n",
       "<style scoped>\n",
       "    .dataframe tbody tr th:only-of-type {\n",
       "        vertical-align: middle;\n",
       "    }\n",
       "\n",
       "    .dataframe tbody tr th {\n",
       "        vertical-align: top;\n",
       "    }\n",
       "\n",
       "    .dataframe thead th {\n",
       "        text-align: right;\n",
       "    }\n",
       "</style>\n",
       "<table border=\"1\" class=\"dataframe\">\n",
       "  <thead>\n",
       "    <tr style=\"text-align: right;\">\n",
       "      <th></th>\n",
       "      <th>ws1</th>\n",
       "      <th>ws2</th>\n",
       "      <th>ws3</th>\n",
       "      <th>ws4</th>\n",
       "      <th>ws5</th>\n",
       "      <th>ws6</th>\n",
       "      <th>ws7</th>\n",
       "    </tr>\n",
       "  </thead>\n",
       "  <tbody>\n",
       "    <tr>\n",
       "      <th>ws1</th>\n",
       "      <td>1.000000</td>\n",
       "      <td>-0.003298</td>\n",
       "      <td>0.050814</td>\n",
       "      <td>0.921025</td>\n",
       "      <td>-0.244932</td>\n",
       "      <td>0.718429</td>\n",
       "      <td>0.686955</td>\n",
       "    </tr>\n",
       "    <tr>\n",
       "      <th>ws2</th>\n",
       "      <td>-0.003298</td>\n",
       "      <td>1.000000</td>\n",
       "      <td>0.282211</td>\n",
       "      <td>0.014604</td>\n",
       "      <td>0.200469</td>\n",
       "      <td>0.074002</td>\n",
       "      <td>0.048336</td>\n",
       "    </tr>\n",
       "    <tr>\n",
       "      <th>ws3</th>\n",
       "      <td>0.050814</td>\n",
       "      <td>0.282211</td>\n",
       "      <td>1.000000</td>\n",
       "      <td>0.078292</td>\n",
       "      <td>0.618984</td>\n",
       "      <td>-0.091622</td>\n",
       "      <td>-0.073141</td>\n",
       "    </tr>\n",
       "    <tr>\n",
       "      <th>ws4</th>\n",
       "      <td>0.921025</td>\n",
       "      <td>0.014604</td>\n",
       "      <td>0.078292</td>\n",
       "      <td>1.000000</td>\n",
       "      <td>-0.236021</td>\n",
       "      <td>0.706039</td>\n",
       "      <td>0.673294</td>\n",
       "    </tr>\n",
       "    <tr>\n",
       "      <th>ws5</th>\n",
       "      <td>-0.244932</td>\n",
       "      <td>0.200469</td>\n",
       "      <td>0.618984</td>\n",
       "      <td>-0.236021</td>\n",
       "      <td>1.000000</td>\n",
       "      <td>-0.416049</td>\n",
       "      <td>-0.361621</td>\n",
       "    </tr>\n",
       "    <tr>\n",
       "      <th>ws6</th>\n",
       "      <td>0.718429</td>\n",
       "      <td>0.074002</td>\n",
       "      <td>-0.091622</td>\n",
       "      <td>0.706039</td>\n",
       "      <td>-0.416049</td>\n",
       "      <td>1.000000</td>\n",
       "      <td>0.723172</td>\n",
       "    </tr>\n",
       "    <tr>\n",
       "      <th>ws7</th>\n",
       "      <td>0.686955</td>\n",
       "      <td>0.048336</td>\n",
       "      <td>-0.073141</td>\n",
       "      <td>0.673294</td>\n",
       "      <td>-0.361621</td>\n",
       "      <td>0.723172</td>\n",
       "      <td>1.000000</td>\n",
       "    </tr>\n",
       "  </tbody>\n",
       "</table>\n",
       "</div>"
      ],
      "text/plain": [
       "          ws1       ws2       ws3       ws4       ws5       ws6       ws7\n",
       "ws1  1.000000 -0.003298  0.050814  0.921025 -0.244932  0.718429  0.686955\n",
       "ws2 -0.003298  1.000000  0.282211  0.014604  0.200469  0.074002  0.048336\n",
       "ws3  0.050814  0.282211  1.000000  0.078292  0.618984 -0.091622 -0.073141\n",
       "ws4  0.921025  0.014604  0.078292  1.000000 -0.236021  0.706039  0.673294\n",
       "ws5 -0.244932  0.200469  0.618984 -0.236021  1.000000 -0.416049 -0.361621\n",
       "ws6  0.718429  0.074002 -0.091622  0.706039 -0.416049  1.000000  0.723172\n",
       "ws7  0.686955  0.048336 -0.073141  0.673294 -0.361621  0.723172  1.000000"
      ]
     },
     "execution_count": 46,
     "metadata": {},
     "output_type": "execute_result"
    }
   ],
   "source": [
    "corr = data[data.columns[:-1]].corr()\n",
    "corr"
   ]
  },
  {
   "cell_type": "code",
   "execution_count": 47,
   "id": "16c57b5f",
   "metadata": {},
   "outputs": [
    {
     "data": {
      "image/png": "[encoded data removed]",
      "text/plain": [
       "<Figure size 720x576 with 2 Axes>"
      ]
     },
     "metadata": {
      "needs_background": "light"
     },
     "output_type": "display_data"
    }
   ],
   "source": [
    "f = plt.figure(figsize=(10,8))\n",
    "plt.matshow(corr, fignum=f.number)\n",
    "# plt.xticks(range(df.select_dtypes(['number']).shape[1]), df.select_dtypes(['number']).columns, fontsize=14, rotation=45)\n",
    "# plt.yticks(range(df.select_dtypes(['number']).shape[1]), df.select_dtypes(['number']).columns, fontsize=14)\n",
    "cb = plt.colorbar()\n",
    "cb.ax.tick_params(labelsize=14)\n",
    "plt.title('Correlation Matrix', fontsize=16);"
   ]
  },
  {
   "cell_type": "markdown",
   "id": "bfc59fba",
   "metadata": {},
   "source": [
    "**Observations**\n",
    "ws 1,4,6,7 are highly correlated. ws 3,5 are correlated. ws 4,6,7 are correlated.\n",
    "\n",
    "we can remove 4,6,7 as they are correlated with 1 and 5 as it is correlated with 3."
   ]
  },
  {
   "cell_type": "code",
   "execution_count": 48,
   "id": "5fd2af14",
   "metadata": {},
   "outputs": [
    {
     "name": "stdout",
     "output_type": "stream",
     "text": [
      "Training accuracy:  0.895\n",
      "Testing accuracy:  0.9216666666666666\n"
     ]
    }
   ],
   "source": [
    "X_train_new = X_train[:, :-4]\n",
    "X_test_new = X_test[:, :-4]\n",
    "\n",
    "gaussian_NB(X_train_new, X_test_new, y_train, y_test)"
   ]
  },
  {
   "cell_type": "markdown",
   "id": "82c93555",
   "metadata": {},
   "source": [
    "We are still getting a pretty good accuracy."
   ]
  },
  {
   "cell_type": "markdown",
   "id": "741d169d",
   "metadata": {},
   "source": [
    "### Experiment 6"
   ]
  },
  {
   "cell_type": "markdown",
   "id": "162af339",
   "metadata": {},
   "source": [
    "We will have to calculate the importance of each feature, and see which contributes most to the dataset."
   ]
  },
  {
   "cell_type": "code",
   "execution_count": 50,
   "id": "93d2a391",
   "metadata": {},
   "outputs": [
    {
     "name": "stdout",
     "output_type": "stream",
     "text": [
      "Feature name: 0; Importance: 0.8045092627876385\n",
      "Feature name: 1; Importance: 0.018841008235302326\n",
      "Feature name: 2; Importance: 0.29362557984479487\n",
      "Feature name: 3; Importance: 0.7449362107172719\n",
      "Feature name: 4; Importance: 0.6265804151597523\n",
      "Feature name: 5; Importance: 0.43473906821963526\n",
      "Feature name: 6; Importance: 0.3792251334684511\n"
     ]
    },
    {
     "data": {
      "image/png": "[encoded data removed]",
      "text/plain": [
       "<Figure size 432x288 with 1 Axes>"
      ]
     },
     "metadata": {
      "needs_background": "light"
     },
     "output_type": "display_data"
    }
   ],
   "source": [
    "from sklearn.feature_selection import mutual_info_classif\n",
    "info = mutual_info_classif(data[data.columns[:-1]], data['r'])\n",
    "\n",
    "for ind, i in enumerate(info):\n",
    "    print(f\"Feature name: {ind}; Importance: {i}\")\n",
    "\n",
    "x = [i for i in range(len(info))]\n",
    "plt.plot(x, info)\n",
    "plt.show()"
   ]
  },
  {
   "cell_type": "markdown",
   "id": "2aa22331",
   "metadata": {},
   "source": [
    "ws1 and ws4 seem to be the most overpowering."
   ]
  },
  {
   "cell_type": "code",
   "execution_count": 51,
   "id": "7e1a168c",
   "metadata": {},
   "outputs": [
    {
     "name": "stdout",
     "output_type": "stream",
     "text": [
      "Training accuracy:  0.8042857142857143\n",
      "Testing accuracy:  0.7883333333333333\n"
     ]
    }
   ],
   "source": [
    "gaussian_NB(X_train[:, [0,3]], X_test[:, [0,3]], y_train, y_test)"
   ]
  },
  {
   "cell_type": "markdown",
   "id": "c8a172ec",
   "metadata": {},
   "source": [
    "We get a pretty decent accuracy even with just 2 features. \n",
    "\n",
    "Now let us experiement with features that have low overpowering value."
   ]
  },
  {
   "cell_type": "code",
   "execution_count": 52,
   "id": "f621d2ed",
   "metadata": {},
   "outputs": [
    {
     "name": "stdout",
     "output_type": "stream",
     "text": [
      "Training accuracy:  0.5257142857142857\n",
      "Testing accuracy:  0.5166666666666667\n"
     ]
    }
   ],
   "source": [
    "gaussian_NB(X_train[:, [1,2]], X_test[:, [1,2]], y_train, y_test)"
   ]
  },
  {
   "cell_type": "markdown",
   "id": "f15d7f58",
   "metadata": {},
   "source": [
    "Bad accuracy is seen."
   ]
  },
  {
   "cell_type": "markdown",
   "id": "e3efaf80",
   "metadata": {},
   "source": [
    "### Experiment 7"
   ]
  },
  {
   "cell_type": "code",
   "execution_count": 54,
   "id": "15111b4e",
   "metadata": {},
   "outputs": [
    {
     "name": "stdout",
     "output_type": "stream",
     "text": [
      "Training accuracy:  0.9821428571428571\n",
      "Testing accuracy:  0.9833333333333333\n"
     ]
    }
   ],
   "source": [
    "from sklearn.naive_bayes import GaussianNB\n",
    "gnb = GaussianNB()\n",
    "gnb.fit(X_train, y_train)\n",
    "y_pred = gnb.predict(X_train)\n",
    "total_cor = np.sum(y_pred == y_train)\n",
    "accuracy = total_cor / y_pred.shape[0]\n",
    "print(\"Training accuracy: \", accuracy)\n",
    "\n",
    "y_pred = gnb.predict(X_test)\n",
    "total_cor = np.sum(y_pred == y_test)\n",
    "accuracy = total_cor / y_pred.shape[0]\n",
    "print(\"Testing accuracy: \", accuracy)"
   ]
  }
 ],
 "metadata": {
  "kernelspec": {
   "display_name": "Python 3",
   "language": "python",
   "name": "python3"
  },
  "language_info": {
   "codemirror_mode": {
    "name": "ipython",
    "version": 3
   },
   "file_extension": ".py",
   "mimetype": "text/x-python",
   "name": "python",
   "nbconvert_exporter": "python",
   "pygments_lexer": "ipython3",
   "version": "3.8.10"
  }
 },
 "nbformat": 4,
 "nbformat_minor": 5
}
