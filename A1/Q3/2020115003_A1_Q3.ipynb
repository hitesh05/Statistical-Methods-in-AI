{
 "cells": [
  {
   "cell_type": "markdown",
   "id": "improving-pepper",
   "metadata": {
    "id": "improving-pepper"
   },
   "source": [
    "# Assignment 1 - Question 3\n",
    "The objective of this assignment is to get you familiarize with  the  problem  of  `Linear Regression`.\n",
    "\n",
    "## Instructions\n",
    "- Write your code and analysis in the indicated cells.\n",
    "- Ensure that this notebook runs without errors when the cells are run in sequence.\n",
    "- Do not attempt to change the contents of other cells.\n",
    "- No inbuilt functions to be used until specified.\n",
    "\n",
    "## Submission\n",
    "- Ensure that this notebook runs without errors when the cells are run in sequence.\n",
    "- Rename the notebook to `<roll_number>_A1_Q3.ipynb`."
   ]
  },
  {
   "cell_type": "markdown",
   "id": "final-transaction",
   "metadata": {
    "id": "final-transaction"
   },
   "source": [
    "## 1.3.0 Background about the dataset\n",
    "\n",
    "TLDR: You have 25 independent variables (`x1, x2, x3, ... , x25`) type: `float` for each data point. You can use a linear combination of these 25 independent variables to predict the y (dependent variable) of each data point."
   ]
  },
  {
   "cell_type": "code",
   "execution_count": 1,
   "id": "lyric-olympus",
   "metadata": {
    "id": "lyric-olympus"
   },
   "outputs": [],
   "source": [
    "import csv\n",
    "import random\n",
    "import numpy as np\n",
    "import matplotlib.pyplot as plt"
   ]
  },
  {
   "cell_type": "code",
   "execution_count": 2,
   "id": "hundred-receipt",
   "metadata": {
    "id": "hundred-receipt"
   },
   "outputs": [],
   "source": [
    "train_data = list()\n",
    "with open('train_q3.csv', 'r') as infile:\n",
    "    input_rows = csv.DictReader(infile)\n",
    "    for row in input_rows:\n",
    "        data_point = ([float(row['x1']), float(row['x2']), float(row['x3']),\n",
    "                       float(row['x4']), float(row['x5']), float(row['x6']),\n",
    "                        float(row['x7']), float(row['x8']), float(row['x9']),\n",
    "                        float(row['x10']), float(row['x11']), float(row['x12']),\n",
    "                        float(row['x13']), float(row['x14']), float(row['x15']),\n",
    "                        float(row['x16']), float(row['x17']), float(row['x18']),\n",
    "                        float(row['x19']), float(row['x20']), float(row['x21']),\n",
    "                        float(row['x22']), float(row['x23']), float(row['x24']),\n",
    "                        float(row['x25'])], float(row['y']))\n",
    "        train_data.append(data_point)\n",
    "        \n",
    "# each point in x_train has 25 values - 1 for each feature\n",
    "x_train = [x[0] for x in train_data]\n",
    "# each point in y_train has 1 value - the 'y' of the molecule\n",
    "y_train = [x[1] for x in train_data]\n",
    "\n",
    "\n",
    "test_data = list()\n",
    "with open('test_q3.csv', 'r') as infile:\n",
    "    input_rows = csv.DictReader(infile)\n",
    "    for row in input_rows:\n",
    "        data_point = ([float(row['x1']), float(row['x2']), float(row['x3']),\n",
    "                        float(row['x4']), float(row['x5']), float(row['x6']),\n",
    "                        float(row['x7']), float(row['x8']), float(row['x9']),\n",
    "                        float(row['x10']), float(row['x11']), float(row['x12']),\n",
    "                        float(row['x13']), float(row['x14']), float(row['x15']),\n",
    "                        float(row['x16']), float(row['x17']), float(row['x18']),\n",
    "                        float(row['x19']), float(row['x20']), float(row['x21']),\n",
    "                        float(row['x22']), float(row['x23']), float(row['x24']),\n",
    "                        float(row['x25'])], float(row['y']))\n",
    "        test_data.append(data_point)\n",
    "\n",
    "x_test = [x[0] for x in test_data]\n",
    "y_test = [x[1] for x in test_data]"
   ]
  },
  {
   "cell_type": "code",
   "execution_count": 3,
   "id": "a1ab76f4",
   "metadata": {},
   "outputs": [
    {
     "name": "stdout",
     "output_type": "stream",
     "text": [
      "240 60\n"
     ]
    }
   ],
   "source": [
    "print(len(x_train), len(x_test))"
   ]
  },
  {
   "cell_type": "code",
   "execution_count": 4,
   "id": "078a3b9b",
   "metadata": {},
   "outputs": [
    {
     "name": "stdout",
     "output_type": "stream",
     "text": [
      "<class 'list'>\n"
     ]
    }
   ],
   "source": [
    "print(type(x_train))"
   ]
  },
  {
   "cell_type": "code",
   "execution_count": 5,
   "id": "bd5483db",
   "metadata": {},
   "outputs": [],
   "source": [
    "x_train = np.array(x_train)\n",
    "y_train = np.array(y_train)\n",
    "x_test = np.array(x_test)\n",
    "y_test = np.array(y_test)"
   ]
  },
  {
   "cell_type": "code",
   "execution_count": 6,
   "id": "5d14fc53",
   "metadata": {},
   "outputs": [
    {
     "data": {
      "text/plain": [
       "((240, 25), (60, 25), (240,), (60,))"
      ]
     },
     "execution_count": 6,
     "metadata": {},
     "output_type": "execute_result"
    }
   ],
   "source": [
    "x_train.shape, x_test.shape, y_train.shape, y_test.shape"
   ]
  },
  {
   "cell_type": "code",
   "execution_count": 7,
   "id": "d63e501b",
   "metadata": {},
   "outputs": [],
   "source": [
    "y_train = y_train.reshape(-1,1)\n",
    "y_test = y_test.reshape(-1,1)"
   ]
  },
  {
   "cell_type": "code",
   "execution_count": 8,
   "id": "ae8b67e7",
   "metadata": {},
   "outputs": [
    {
     "data": {
      "text/plain": [
       "(240, 1)"
      ]
     },
     "execution_count": 8,
     "metadata": {},
     "output_type": "execute_result"
    }
   ],
   "source": [
    "y_train.shape"
   ]
  },
  {
   "cell_type": "markdown",
   "id": "square-direction",
   "metadata": {
    "id": "square-direction"
   },
   "source": [
    "### 1.3.1 Implement a Linear Regression model that minimizes the MSE **without using any libraries**. You may use NumPy to vectorize your code, but *do not use numpy.polyfit* or anything similar.\n",
    "\n",
    "1.3.1.1 Explain how you plan to implement Linear Regression in 5-10 lines.\n",
    "\n",
    "1.3.1.2 Implement Linear Regression using `x_train` and `y_train` as the train dataset.\n",
    "\n",
    "1.3.2.3 Choose the best learning rate and print the learning rate for which you achieved the best MSE.\n",
    "\n",
    "1.2.1.4 Make a [Parity Plot](https://en.wikipedia.org/wiki/Parity_plot) of your model's bandgap predictions on the test set with the actual values."
   ]
  },
  {
   "cell_type": "markdown",
   "id": "frozen-forth",
   "metadata": {
    "id": "frozen-forth"
   },
   "source": [
    "<!-- your answer to 1.3.1.1 -->\n",
    "`ANSWER 1.3.1.1`"
   ]
  },
  {
   "cell_type": "markdown",
   "id": "1ac4b167",
   "metadata": {},
   "source": [
    "In linear regression, we try to fit a line such as to minimise the error.\n",
    "\n",
    "y_pred = Wx + b, where W is a matrix of weights.\n",
    "\n",
    "Error = sum((y_pred - y) ** 2).\n",
    "\n",
    "We start by initialising weights to 0, and then calculate the optimal value using Gradient descent."
   ]
  },
  {
   "cell_type": "code",
   "execution_count": 9,
   "id": "angry-depression",
   "metadata": {
    "id": "angry-depression"
   },
   "outputs": [],
   "source": [
    "# 1.3.1.2\n",
    "# implement Linear Regression\n",
    "class LinearRegression():\n",
    "    def __init__(self, lr=0.001):\n",
    "        self.lr = lr\n",
    "        self.num_iter = 1000\n",
    "        self.costs = list()\n",
    "        self.cost_limit = 0.0001\n",
    "        \n",
    "    def cost(self, y_prediction):\n",
    "        x = np.sum(np.square(y_prediction - self.y_train))\n",
    "        c = (0.5/self.m) * x # cost = (1/2m)*(sigma(wTxi - yi)**2)\n",
    "        return c\n",
    "    \n",
    "    def model(self):\n",
    "        for i in range(self.num_iter):\n",
    "            y_prediction = np.dot(self.x_train, self.w.transpose()) + self.bias # y = wTx + b\n",
    "            # print(y_prediction.shape)\n",
    "            c = self.cost(y_prediction)\n",
    "            self.costs.append(c)\n",
    "            if c < self.cost_limit:\n",
    "                break\n",
    "            diff = (y_prediction - self.y_train) # wTxi - yi\n",
    "            w_der = (1/self.m) * (np.dot(self.x_train.transpose(), diff)) # sigma((wTxi - yi)*xi)\n",
    "#             w_der = w_der*(1/self.m)\n",
    "            b_der = (1/self.m) * np.sum(diff)\n",
    "#             b_der = b_der*(1/self.m)\n",
    "\n",
    "            # applying gradient descent\n",
    "            w_new = self.w - (self.lr * w_der.transpose()) # w(t+1) = w(t) - (lambda)*(J'(wt))\n",
    "            b_new = self.bias - (self.lr * b_der)\n",
    "            self.w = w_new\n",
    "            self.bias = b_new\n",
    "\n",
    "    def fit(self, x_train = None, x_test = None, y_train = None, y_test = None, bias = 0):\n",
    "        self.x_train = x_train\n",
    "        self.x_test = x_test\n",
    "        self.y_train = y_train\n",
    "        self.y_test = y_test\n",
    "        a = x_train.shape[1]\n",
    "        self.w = np.zeros((1,a))\n",
    "        self.bias = bias\n",
    "        self.m = self.x_train.shape[0]\n",
    "        self.model()\n",
    "            \n",
    "    def predict(self, x):\n",
    "        return np.dot(x, self.w.transpose()) + self.bias\n",
    "    \n",
    "    def Mean_Square_Error(self):\n",
    "        y_pred = self.predict(self.x_test)\n",
    "        x = np.sum(np.square(y_pred - self.y_test))\n",
    "        mse = (1/self.x_test.shape[0])*x # mse = (1/m)*(sigma(wTxi - yi)**2)\n",
    "        return mse            "
   ]
  },
  {
   "cell_type": "code",
   "execution_count": 10,
   "id": "6e28bc24",
   "metadata": {},
   "outputs": [],
   "source": [
    "# 1.3.2.3\n",
    "# try with different learning rates and choose the best one\n",
    "lrs = np.arange(0.001, 0.1, 0.001)\n",
    "errors = list()\n",
    "\n",
    "for ind, i in enumerate(lrs):\n",
    "    reg = LinearRegression(i)\n",
    "    reg.fit(x_train, x_test, y_train, y_test)\n",
    "    error = reg.Mean_Square_Error()\n",
    "    errors.append(error)"
   ]
  },
  {
   "cell_type": "code",
   "execution_count": 11,
   "id": "1807d5b4",
   "metadata": {},
   "outputs": [
    {
     "data": {
      "image/png": "[encoded data removed]",
      "text/plain": [
       "<Figure size 432x288 with 1 Axes>"
      ]
     },
     "metadata": {
      "needs_background": "light"
     },
     "output_type": "display_data"
    }
   ],
   "source": [
    "plt.plot(lrs, errors)\n",
    "plt.xlabel('Learning rate')\n",
    "plt.ylabel('mean square error')\n",
    "plt.show()"
   ]
  },
  {
   "cell_type": "code",
   "execution_count": 12,
   "id": "foster-center",
   "metadata": {
    "id": "foster-center"
   },
   "outputs": [
    {
     "data": {
      "image/png": "[encoded data removed]",
      "text/plain": [
       "<Figure size 504x504 with 1 Axes>"
      ]
     },
     "metadata": {
      "needs_background": "light"
     },
     "output_type": "display_data"
    }
   ],
   "source": [
    "# 1.3.1.4\n",
    "# Get the predictions of x_test into `y_pred`\n",
    "reg = LinearRegression(0.3)\n",
    "reg.fit(x_train, x_test, y_train, y_test)\n",
    "y_pred = reg.predict(x_test)\n",
    "fig, ax = plt.subplots(figsize=(7,7))\n",
    "\n",
    "# print(y_test.shape, y_pred.shape)\n",
    "ax.scatter(y_test, y_pred)\n",
    "\n",
    "lims = [\n",
    "    np.min([ax.get_xlim(), ax.get_ylim()]),\n",
    "    np.max([ax.get_xlim(), ax.get_ylim()]),\n",
    "]\n",
    "ax.plot(lims, lims, 'k-', alpha=0.75, zorder=0)\n",
    "ax.set_aspect('equal')\n",
    "ax.set_xlim(lims)\n",
    "ax.set_ylim(lims)\n",
    "\n",
    "ax.set_title('Parity Plot of Custom Linear Regression')\n",
    "ax.set_xlabel('Ground truth y-values')\n",
    "ax.set_ylabel('Predicted y-values')\n",
    "plt.show()"
   ]
  },
  {
   "cell_type": "markdown",
   "id": "dominant-chaos",
   "metadata": {
    "id": "dominant-chaos"
   },
   "source": [
    "### 1.3.2 Implement Ridge Regression\n",
    "\n",
    "1.3.2.1 Explain Ridge regression briefly in 1-2 lines.\n",
    "\n",
    "1.3.2.2 Implement Ridge regression and make a table of different RMSE scores you achieved with different values of alpha. What does the parameter `alpha` do?\n",
    "\n",
    "1.3.2.3 How does it affect the results here? Explain in 5-10 lines in total. (You can use scikit-learn from this cell onwards)\n",
    "\n",
    "1.3.2.4 Make a Parity Plot of Ridge Regression model's y-predictions on the test set with the actual values."
   ]
  },
  {
   "cell_type": "markdown",
   "id": "happy-cyprus",
   "metadata": {
    "id": "happy-cyprus"
   },
   "source": [
    "<!-- Your answer to 1.3.2.1 -->\n",
    "`1.3.2.1 Answer`"
   ]
  },
  {
   "cell_type": "markdown",
   "id": "4d9e5e06",
   "metadata": {},
   "source": [
    "Regularization is a technique used to reduce the errors by fitting the function appropriately on the given training set and avoid overfitting. It does this by penalising the higher order values of the polynomial.\n",
    "\n",
    "Ridge regression is L2 norm, adds “squared magnitude” of coefficient as penalty term to the loss function."
   ]
  },
  {
   "cell_type": "markdown",
   "id": "3bb7b946",
   "metadata": {},
   "source": [
    "#### Ridge Regression without libraries"
   ]
  },
  {
   "cell_type": "code",
   "execution_count": 39,
   "id": "02a50a51",
   "metadata": {
    "id": "02a50a51"
   },
   "outputs": [],
   "source": [
    "# 1.3.2.2\n",
    "# you should not have imported sklearn before this point\n",
    "import sklearn\n",
    "\n",
    "# implement Ridge regression and make a table where you explore the effect of different values of `alpha`\n",
    "class RidgeRegression():\n",
    "    def __init__(self, lr=0.001, alpha = 0.1):\n",
    "        self.lr = lr\n",
    "        self.num_iter = 1000\n",
    "        self.costs = list()\n",
    "        self.cost_limit = 0.0001\n",
    "        self.alpha = alpha\n",
    "        \n",
    "    def cost(self, y_prediction):\n",
    "        x = np.sum(np.square(y_prediction - self.y_train))\n",
    "        c = (0.5/self.m) * x # cost = (1/2m)*(sigma(wTxi - yi)**2)\n",
    "        c += np.sum(np.square(self.w.transpose())) * self.alpha # regularisation metric\n",
    "        return c\n",
    "    \n",
    "    def model(self):\n",
    "        for i in range(self.num_iter):\n",
    "            y_prediction = np.dot(self.x_train, self.w.transpose()) + self.bias # y = wTx + b\n",
    "            # print(y_prediction.shape)\n",
    "            c = self.cost(y_prediction)\n",
    "            self.costs.append(c)\n",
    "            if c < self.cost_limit:\n",
    "                break\n",
    "            diff = (y_prediction - self.y_train) # wTxi - yi\n",
    "            w_der = (1/self.m) * (np.dot(self.x_train.transpose(), diff)) + 2 * self.alpha * self.w.transpose()\n",
    "#             w_der = w_der*(1/self.m)\n",
    "            b_der = (1/self.m) * np.sum(diff)\n",
    "#             b_der = b_der*(1/self.m)\n",
    "\n",
    "            # applying gradient descent\n",
    "            w_new = self.w - (self.lr * w_der.transpose()) # w(t+1) = w(t) - (lambda)*(J'(wt))\n",
    "            b_new = self.bias - (self.lr * b_der)\n",
    "            self.w = w_new\n",
    "            self.bias = b_new\n",
    "\n",
    "    def fit(self, x_train = None, x_test = None, y_train = None, y_test = None, bias = 0):\n",
    "        self.x_train = x_train\n",
    "        self.x_test = x_test\n",
    "        self.y_train = y_train\n",
    "        self.y_test = y_test\n",
    "        a = x_train.shape[1]\n",
    "        self.w = np.zeros((1,a))\n",
    "        self.bias = bias\n",
    "        self.m = self.x_train.shape[0]\n",
    "        self.model()\n",
    "            \n",
    "    def predict(self, x):\n",
    "        y_pred = np.dot(x, self.w.transpose()) + self.bias\n",
    "        return y_pred\n",
    "    \n",
    "    def Mean_Square_Error(self):\n",
    "        y_pred = self.predict(self.x_test)\n",
    "        self.m = self.x_test.shape[0]\n",
    "        x = np.sum(np.square(y_pred - self.y_test))\n",
    "        mse = (1/self.m)*x # mse = (1/m)*(sigma(wTxi - yi)**2)\n",
    "        return mse            "
   ]
  },
  {
   "cell_type": "code",
   "execution_count": 40,
   "id": "65bb1809",
   "metadata": {},
   "outputs": [],
   "source": [
    "alpha_arr = np.arange(0, 10, 0.1)\n",
    "errors = list()\n",
    "\n",
    "for ind, i in enumerate(alpha_arr):\n",
    "    ridge = RidgeRegression(0.03, i)\n",
    "    ridge.fit(x_train, x_test, y_train, y_test)\n",
    "    errors.append(ridge.Mean_Square_Error())"
   ]
  },
  {
   "cell_type": "code",
   "execution_count": 41,
   "id": "27e76730",
   "metadata": {},
   "outputs": [
    {
     "data": {
      "image/png": "[encoded data removed]",
      "text/plain": [
       "<Figure size 432x288 with 1 Axes>"
      ]
     },
     "metadata": {
      "needs_background": "light"
     },
     "output_type": "display_data"
    }
   ],
   "source": [
    "plt.plot(alpha_arr, errors)\n",
    "plt.xlabel('Alphas')\n",
    "plt.ylabel('MSE')\n",
    "plt.show()"
   ]
  },
  {
   "cell_type": "markdown",
   "id": "ae2503c1",
   "metadata": {},
   "source": [
    "As we can see in the graph, the global minima was at value 0.0, indicating that the curve could fit in entirely without any penalization and that the graph was a complete fit. As the parameter varies over time, the RMSE lowers with an increase in alpha, reaching a minima. This is not always the case, though, as regularisation is quite helpful in these situations to properly adjust the weights because in real-world datasets, parameters tend to be associated.\n",
    "\n",
    "The parameter alpha enhances the penalising value's (here, weight squares') relevance and raises it when the value rises gradually between brief maxima."
   ]
  },
  {
   "cell_type": "code",
   "execution_count": 42,
   "id": "fa581a53",
   "metadata": {},
   "outputs": [
    {
     "data": {
      "image/png": "[encoded data removed]",
      "text/plain": [
       "<Figure size 504x504 with 1 Axes>"
      ]
     },
     "metadata": {
      "needs_background": "light"
     },
     "output_type": "display_data"
    }
   ],
   "source": [
    "# 1.3.1.4\n",
    "# Get the predictions of x_test into `y_pred`\n",
    "reg = RidgeRegression(0.3,0)\n",
    "reg.fit(x_train, x_test, y_train, y_test)\n",
    "y_pred = reg.predict(x_test)\n",
    "fig, ax = plt.subplots(figsize=(7,7))\n",
    "\n",
    "# print(y_test.shape, y_pred.shape)\n",
    "ax.scatter(y_test, y_pred)\n",
    "\n",
    "lims = [\n",
    "    np.min([ax.get_xlim(), ax.get_ylim()]),\n",
    "    np.max([ax.get_xlim(), ax.get_ylim()]),\n",
    "]\n",
    "ax.plot(lims, lims, 'k-', alpha=0.75, zorder=0)\n",
    "ax.set_aspect('equal')\n",
    "ax.set_xlim(lims)\n",
    "ax.set_ylim(lims)\n",
    "\n",
    "ax.set_title('Parity Plot of Custom Linear Regression')\n",
    "ax.set_xlabel('Ground truth y-values')\n",
    "ax.set_ylabel('Predicted y-values')\n",
    "plt.show()"
   ]
  },
  {
   "cell_type": "markdown",
   "id": "3fd0cbd9",
   "metadata": {},
   "source": [
    "#### Ridge Regression with sklearn"
   ]
  },
  {
   "cell_type": "code",
   "execution_count": 46,
   "id": "021b91a3",
   "metadata": {},
   "outputs": [
    {
     "data": {
      "image/png": "[encoded data removed]",
      "text/plain": [
       "<Figure size 432x288 with 1 Axes>"
      ]
     },
     "metadata": {
      "needs_background": "light"
     },
     "output_type": "display_data"
    }
   ],
   "source": [
    "from sklearn.linear_model import Ridge\n",
    "from sklearn.metrics import mean_squared_error\n",
    "\n",
    "alpha_arr = np.arange(0, 10, 0.1)\n",
    "errors = list()\n",
    "\n",
    "for ind, i in enumerate(alpha_arr):\n",
    "    ridge = Ridge(alpha=i)\n",
    "    ridge.fit(x_train, y_train)\n",
    "    y_pred = ridge.predict(x_test)\n",
    "    errors.append(mean_squared_error(y_test,y_pred))\n",
    "    \n",
    "plt.plot(alpha_arr, errors)\n",
    "plt.xlabel('Alphas')\n",
    "plt.ylabel('MSE')\n",
    "plt.show()"
   ]
  },
  {
   "cell_type": "markdown",
   "id": "e54d36d9",
   "metadata": {
    "id": "e54d36d9"
   },
   "source": [
    "<!-- Your answer to 1.3.2.3 -->\n",
    "`1.3.2.3 Answer`"
   ]
  },
  {
   "cell_type": "code",
   "execution_count": 48,
   "id": "8754c9db",
   "metadata": {},
   "outputs": [
    {
     "data": {
      "image/png": "[encoded data removed]",
      "text/plain": [
       "<Figure size 504x504 with 1 Axes>"
      ]
     },
     "metadata": {
      "needs_background": "light"
     },
     "output_type": "display_data"
    }
   ],
   "source": [
    "# 1.3.1.4\n",
    "# Get the predictions of x_test into `y_pred`\n",
    "reg = Ridge(alpha=0)\n",
    "reg.fit(x_train, y_train)\n",
    "y_pred = reg.predict(x_test)\n",
    "fig, ax = plt.subplots(figsize=(7,7))\n",
    "\n",
    "# print(y_test.shape, y_pred.shape)\n",
    "ax.scatter(y_test, y_pred)\n",
    "\n",
    "lims = [\n",
    "    np.min([ax.get_xlim(), ax.get_ylim()]),\n",
    "    np.max([ax.get_xlim(), ax.get_ylim()]),\n",
    "]\n",
    "ax.plot(lims, lims, 'k-', alpha=0.75, zorder=0)\n",
    "ax.set_aspect('equal')\n",
    "ax.set_xlim(lims)\n",
    "ax.set_ylim(lims)\n",
    "\n",
    "ax.set_title('Parity Plot of Custom Linear Regression')\n",
    "ax.set_xlabel('Ground truth y-values')\n",
    "ax.set_ylabel('Predicted y-values')\n",
    "plt.show()"
   ]
  },
  {
   "cell_type": "markdown",
   "id": "popular-wonder",
   "metadata": {
    "id": "popular-wonder"
   },
   "source": [
    "### 1.3.3 Implement Lasso Regression\n",
    "1.3.3.1 Explain Lasso regression briefly in 1-2 lines.\n",
    "\n",
    "1.3.3.2 Implement Lasso regression and make a table of different RMSE scores you achieved with different values of alpha.\n",
    "\n",
    "1.3.3.3 What does the parameter `alpha` do? How does it affect the results here? Explain in 5-10 lines in total.\n",
    "\n",
    "1.3.3.4 Make a Parity Plot of Lasso Regression model's y-predictions on the test set with the actual values."
   ]
  },
  {
   "cell_type": "markdown",
   "id": "mV9BlPIjm-K1",
   "metadata": {
    "id": "mV9BlPIjm-K1"
   },
   "source": [
    "<!-- Your answer to 1.3.3.1 -->\n",
    "`1.3.3.1 Answer`"
   ]
  },
  {
   "cell_type": "markdown",
   "id": "5972b1a3",
   "metadata": {},
   "source": [
    "Regularization is a method of punishing variables that are independent but have the potential to be correlated. In Lasso, this is accomplished by merely adding the coefficients of the function multiplied by alpha, also referred to as the L1 norm."
   ]
  },
  {
   "cell_type": "markdown",
   "id": "5f1572d3",
   "metadata": {},
   "source": [
    "#### Lasso without any libraries"
   ]
  },
  {
   "cell_type": "code",
   "execution_count": 50,
   "id": "09148bbc",
   "metadata": {
    "id": "09148bbc"
   },
   "outputs": [],
   "source": [
    "# 1.3.3.2\n",
    "# implement Lasso regression and make a table where you explore the effect of different values of `alpha`\n",
    "class LassoRegression():\n",
    "    def __init__(self, lr=0.001, alpha = 0.1):\n",
    "        self.lr = lr\n",
    "        self.num_iter = 1000\n",
    "        self.costs = list()\n",
    "        self.cost_limit = 0.0001\n",
    "        self.alpha = alpha\n",
    "        \n",
    "    def cost(self, y_prediction):\n",
    "        x = np.sum(np.square(y_prediction - self.y_train))\n",
    "        c = (0.5/self.m) * x # cost = (1/2m)*(sigma(wTxi - yi)**2)\n",
    "        c += np.sum(np.abs(self.w.transpose())) * self.alpha # regularisation metric\n",
    "        return c\n",
    "    \n",
    "    def model(self):\n",
    "        for i in range(self.num_iter):\n",
    "            y_prediction = np.dot(self.x_train, self.w.transpose()) + self.bias # y = wTx + b\n",
    "            # print(y_prediction.shape)\n",
    "            c = self.cost(y_prediction)\n",
    "            self.costs.append(c)\n",
    "            if c < self.cost_limit:\n",
    "                break\n",
    "            diff = (y_prediction - self.y_train) # wTxi - yi\n",
    "            w_der = (1/self.m) * (np.dot(self.x_train.transpose(), diff)) + self.alpha * np.sign(self.w.transpose())\n",
    "#             w_der = w_der*(1/self.m)\n",
    "            b_der = (1/self.m) * np.sum(diff)\n",
    "#             b_der = b_der*(1/self.m)\n",
    "\n",
    "            # applying gradient descent\n",
    "            w_new = self.w - (self.lr * w_der.transpose()) # w(t+1) = w(t) - (lambda)*(J'(wt))\n",
    "            b_new = self.bias - (self.lr * b_der)\n",
    "            self.w = w_new\n",
    "            self.bias = b_new\n",
    "\n",
    "    def fit(self, x_train = None, x_test = None, y_train = None, y_test = None, bias = 0):\n",
    "        self.x_train = x_train\n",
    "        self.x_test = x_test\n",
    "        self.y_train = y_train\n",
    "        self.y_test = y_test\n",
    "        a = x_train.shape[1]\n",
    "        self.w = np.zeros((1,a))\n",
    "        self.bias = bias\n",
    "        self.m = self.x_train.shape[0]\n",
    "        self.model()\n",
    "            \n",
    "    def predict(self, x):\n",
    "        y_pred = np.dot(x, self.w.transpose()) + self.bias\n",
    "        return y_pred\n",
    "    \n",
    "    def Mean_Square_Error(self):\n",
    "        y_pred = self.predict(self.x_test)\n",
    "        self.m = self.x_test.shape[0]\n",
    "        x = np.sum(np.square(y_pred - self.y_test))\n",
    "        mse = (1/self.m)*x # mse = (1/m)*(sigma(wTxi - yi)**2)\n",
    "        return mse            "
   ]
  },
  {
   "cell_type": "code",
   "execution_count": 51,
   "id": "f1aca300",
   "metadata": {},
   "outputs": [],
   "source": [
    "alpha_arr = np.arange(0.1, 10, 0.1)\n",
    "errors = list()\n",
    "\n",
    "for ind, i in enumerate(alpha_arr):\n",
    "    ridge = RidgeRegression(0.03, i)\n",
    "    ridge.fit(x_train, x_test, y_train, y_test)\n",
    "    errors.append(ridge.Mean_Square_Error())"
   ]
  },
  {
   "cell_type": "code",
   "execution_count": 52,
   "id": "a0efc2bd",
   "metadata": {},
   "outputs": [
    {
     "data": {
      "image/png": "[encoded data removed]",
      "text/plain": [
       "<Figure size 432x288 with 1 Axes>"
      ]
     },
     "metadata": {
      "needs_background": "light"
     },
     "output_type": "display_data"
    }
   ],
   "source": [
    "plt.plot(alpha_arr, errors)\n",
    "plt.xlabel('Alphas')\n",
    "plt.ylabel('MSE')\n",
    "plt.show()"
   ]
  },
  {
   "cell_type": "code",
   "execution_count": 72,
   "id": "f39347be",
   "metadata": {},
   "outputs": [
    {
     "data": {
      "image/png": "[encoded data removed]",
      "text/plain": [
       "<Figure size 504x504 with 1 Axes>"
      ]
     },
     "metadata": {
      "needs_background": "light"
     },
     "output_type": "display_data"
    }
   ],
   "source": [
    "# 1.3.1.4\n",
    "# Get the predictions of x_test into `y_pred`\n",
    "reg = LassoRegression(0.2, 0.01)\n",
    "reg.fit(x_train, x_test, y_train, y_test)\n",
    "y_pred = reg.predict(x_test)\n",
    "fig, ax = plt.subplots(figsize=(7,7))\n",
    "\n",
    "# print(y_test.shape, y_pred.shape)\n",
    "ax.scatter(y_test, y_pred)\n",
    "\n",
    "lims = [\n",
    "    np.min([ax.get_xlim(), ax.get_ylim()]),\n",
    "    np.max([ax.get_xlim(), ax.get_ylim()]),\n",
    "]\n",
    "ax.plot(lims, lims, 'k-', alpha=0.75, zorder=0)\n",
    "ax.set_aspect('equal')\n",
    "ax.set_xlim(lims)\n",
    "ax.set_ylim(lims)\n",
    "\n",
    "ax.set_title('Parity Plot of Custom Linear Regression')\n",
    "ax.set_xlabel('Ground truth y-values')\n",
    "ax.set_ylabel('Predicted y-values')\n",
    "plt.show()"
   ]
  },
  {
   "cell_type": "markdown",
   "id": "e99be569",
   "metadata": {},
   "source": [
    "#### Lasso with sklearn"
   ]
  },
  {
   "cell_type": "code",
   "execution_count": 70,
   "id": "d5ce56ad",
   "metadata": {},
   "outputs": [
    {
     "data": {
      "image/png": "[encoded data removed]",
      "text/plain": [
       "<Figure size 432x288 with 1 Axes>"
      ]
     },
     "metadata": {
      "needs_background": "light"
     },
     "output_type": "display_data"
    }
   ],
   "source": [
    "from sklearn.linear_model import Lasso\n",
    "\n",
    "alpha_arr = np.arange(0.001, 0.2, 0.001)\n",
    "errors = list()\n",
    "\n",
    "for ind, i in enumerate(alpha_arr):\n",
    "    lasso = Lasso(alpha=i)\n",
    "    lasso.fit(x_train, y_train)\n",
    "    y_pred = lasso.predict(x_test)\n",
    "    errors.append(mean_squared_error(y_test,y_pred))\n",
    "    \n",
    "plt.plot(alpha_arr, errors)\n",
    "plt.xlabel('Alphas')\n",
    "plt.ylabel('MSE')\n",
    "plt.show()"
   ]
  },
  {
   "cell_type": "markdown",
   "id": "Hq5eyeqem-K2",
   "metadata": {
    "id": "Hq5eyeqem-K2"
   },
   "source": [
    "<!-- Your answer to 1.3.3.3 -->\n",
    "`1.3.3.3 Answer`"
   ]
  },
  {
   "cell_type": "markdown",
   "id": "c4e927bf",
   "metadata": {},
   "source": [
    "After attaining a minima, the parameter alpha raises the relevance of the penalising value (here, the coefficient sum) and does so as the value increases, displaying a slight reliance by the L1-norm.\n",
    "The value in lasso regression exhibits a minor minima near 0.01 as was discussed in class regarding contours, and it will thereafter increase since the weights are being severely penalised and are therefore of little utility."
   ]
  },
  {
   "cell_type": "code",
   "execution_count": 60,
   "id": "d67f360c",
   "metadata": {},
   "outputs": [
    {
     "data": {
      "image/png": "[encoded data removed]",
      "text/plain": [
       "<Figure size 504x504 with 1 Axes>"
      ]
     },
     "metadata": {
      "needs_background": "light"
     },
     "output_type": "display_data"
    }
   ],
   "source": [
    "reg = Lasso(alpha=0.01)\n",
    "reg.fit(x_train, y_train)\n",
    "y_pred = reg.predict(x_test)\n",
    "fig, ax = plt.subplots(figsize=(7,7))\n",
    "\n",
    "# print(y_test.shape, y_pred.shape)\n",
    "ax.scatter(y_test, y_pred)\n",
    "\n",
    "lims = [\n",
    "    np.min([ax.get_xlim(), ax.get_ylim()]),\n",
    "    np.max([ax.get_xlim(), ax.get_ylim()]),\n",
    "]\n",
    "ax.plot(lims, lims, 'k-', alpha=0.75, zorder=0)\n",
    "ax.set_aspect('equal')\n",
    "ax.set_xlim(lims)\n",
    "ax.set_ylim(lims)\n",
    "\n",
    "ax.set_title('Parity Plot of Custom Linear Regression')\n",
    "ax.set_xlabel('Ground truth y-values')\n",
    "ax.set_ylabel('Predicted y-values')\n",
    "plt.show()"
   ]
  }
 ],
 "metadata": {
  "colab": {
   "provenance": []
  },
  "kernelspec": {
   "display_name": "Python 3",
   "language": "python",
   "name": "python3"
  },
  "language_info": {
   "codemirror_mode": {
    "name": "ipython",
    "version": 3
   },
   "file_extension": ".py",
   "mimetype": "text/x-python",
   "name": "python",
   "nbconvert_exporter": "python",
   "pygments_lexer": "ipython3",
   "version": "3.8.10"
  },
  "vscode": {
   "interpreter": {
    "hash": "31f2aee4e71d21fbe5cf8b01ff0e069b9275f58929596ceb00d14d90e3e16cd6"
   }
  }
 },
 "nbformat": 4,
 "nbformat_minor": 5
}
